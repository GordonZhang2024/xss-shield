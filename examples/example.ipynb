{
 "cells": [
  {
   "cell_type": "code",
   "execution_count": 2,
   "id": "5f41eab9-0fc3-43eb-add1-18f9ad56dc14",
   "metadata": {},
   "outputs": [
    {
     "name": "stdout",
     "output_type": "stream",
     "text": [
      "&ampltscript&ampgtalert(&#34&#59Bad.&#34&#59)&#59&amplt/script&ampgt\n"
     ]
    }
   ],
   "source": [
    "import xss_shield\n",
    "unsafe_str = '<script>alert(\"Bad.\");</script>'\n",
    "safe_str = xss_shield.escape(unsafe_str)\n",
    "print(safe_str)"
   ]
  }
 ],
 "metadata": {
  "kernelspec": {
   "display_name": "Python 3 (ipykernel)",
   "language": "python",
   "name": "python3"
  },
  "language_info": {
   "codemirror_mode": {
    "name": "ipython",
    "version": 3
   },
   "file_extension": ".py",
   "mimetype": "text/x-python",
   "name": "python",
   "nbconvert_exporter": "python",
   "pygments_lexer": "ipython3",
   "version": "3.12.2"
  }
 },
 "nbformat": 4,
 "nbformat_minor": 5
}
