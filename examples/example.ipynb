{
 "cells": [
  {
   "cell_type": "code",
   "execution_count": 6,
   "id": "ca6cd635-e99a-499d-bca9-53e60c87fe4c",
   "metadata": {},
   "outputs": [
    {
     "name": "stdout",
     "output_type": "stream",
     "text": [
      "&lt;script&gt;alert(&#34;Bad.&#34;)&#59;&lt;&#47;script&gt;\n"
     ]
    }
   ],
   "source": [
    "import xss_shield\n",
    "\n",
    "# This is what xss-shield will do for your website. It can prevent most XSS attacks.\n",
    "unsafe_str = '<script>alert(\"Bad.\");</script>'\n",
    "safe_str = xss_shield.escape(unsafe_str)\n",
    "print(safe_str)\n"
   ]
  },
  {
   "cell_type": "code",
   "execution_count": 5,
   "id": "67131492-659e-4510-af12-7995cfffd193",
   "metadata": {},
   "outputs": [
    {
     "name": "stdout",
     "output_type": "stream",
     "text": [
      "&lt;html&gt;\n"
     ]
    }
   ],
   "source": [
    "import xss_shield\n",
    "\n",
    "# escape() will replace all unsafe characters(such as \"<\") by default.\n",
    "unsafe_str = '<html>'\n",
    "safe_str = xss_shield.escape(unsafe_str)\n",
    "print(safe_str)\n"
   ]
  },
  {
   "cell_type": "code",
   "execution_count": 4,
   "id": "3ee19c70-0363-4a3e-a8af-b86fc68e1da8",
   "metadata": {},
   "outputs": [
    {
     "name": "stdout",
     "output_type": "stream",
     "text": [
      "alert(\"Bad.\");\n"
     ]
    }
   ],
   "source": [
    "import xss_shield\n",
    "\n",
    "unsafe_str = '<script>alert(\"Bad.\");</script>'\n",
    "# escape(str, strict=False) will only replace \"<script>\" HTML tag.\n",
    "safe_str = xss_shield.escape(unsafe_str, strict=False)\n",
    "print(safe_str)\n"
   ]
  },
  {
   "cell_type": "code",
   "execution_count": null,
   "id": "bf64771e-1587-404c-8f6f-7131ec7bb256",
   "metadata": {},
   "outputs": [],
   "source": []
  }
 ],
 "metadata": {
  "kernelspec": {
   "display_name": "Python 3 (ipykernel)",
   "language": "python",
   "name": "python3"
  },
  "language_info": {
   "codemirror_mode": {
    "name": "ipython",
    "version": 3
   },
   "file_extension": ".py",
   "mimetype": "text/x-python",
   "name": "python",
   "nbconvert_exporter": "python",
   "pygments_lexer": "ipython3",
   "version": "3.12.2"
  }
 },
 "nbformat": 4,
 "nbformat_minor": 5
}
