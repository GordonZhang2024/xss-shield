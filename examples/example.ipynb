{
 "cells": [
  {
   "cell_type": "code",
   "execution_count": 1,
   "id": "ca6cd635-e99a-499d-bca9-53e60c87fe4c",
   "metadata": {},
   "outputs": [
    {
     "name": "stdout",
     "output_type": "stream",
     "text": [
      "&lt;script&gt;alert(&#34;Bad.&#34;)&#59;&lt;&#47;script&gt;\n"
     ]
    }
   ],
   "source": [
    "import xss_shield\n",
    "unsafe_str = '<script>alert(\"Bad.\");</script>'\n",
    "safe_str = xss_shield.escape(unsafe_str)\n",
    "print(safe_str)"
   ]
  }
 ],
 "metadata": {
  "kernelspec": {
   "display_name": "Python 3 (ipykernel)",
   "language": "python",
   "name": "python3"
  },
  "language_info": {
   "codemirror_mode": {
    "name": "ipython",
    "version": 3
   },
   "file_extension": ".py",
   "mimetype": "text/x-python",
   "name": "python",
   "nbconvert_exporter": "python",
   "pygments_lexer": "ipython3",
   "version": "3.12.2"
  }
 },
 "nbformat": 4,
 "nbformat_minor": 5
}
